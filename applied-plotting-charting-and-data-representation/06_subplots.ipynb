{
 "cells": [
  {
   "cell_type": "markdown",
   "metadata": {},
   "source": [
    "# Subplots"
   ]
  },
  {
   "cell_type": "code",
   "execution_count": 1,
   "metadata": {},
   "outputs": [
    {
     "name": "stdout",
     "output_type": "stream",
     "text": [
      "\u001b[0;31mSignature:\u001b[0m \u001b[0mplt\u001b[0m\u001b[0;34m.\u001b[0m\u001b[0msubplot\u001b[0m\u001b[0;34m(\u001b[0m\u001b[0;34m*\u001b[0m\u001b[0margs\u001b[0m\u001b[0;34m,\u001b[0m \u001b[0;34m**\u001b[0m\u001b[0mkwargs\u001b[0m\u001b[0;34m)\u001b[0m\u001b[0;34m\u001b[0m\u001b[0;34m\u001b[0m\u001b[0m\n",
      "\u001b[0;31mDocstring:\u001b[0m\n",
      "Add a subplot to the current figure.\n",
      "\n",
      "Wrapper of `.Figure.add_subplot` with a difference in behavior\n",
      "explained in the notes section.\n",
      "\n",
      "Call signatures::\n",
      "\n",
      "   subplot(nrows, ncols, index, **kwargs)\n",
      "   subplot(pos, **kwargs)\n",
      "   subplot(**kwargs)\n",
      "   subplot(ax)\n",
      "\n",
      "Parameters\n",
      "----------\n",
      "*args : int, (int, int, *index*), or `.SubplotSpec`, default: (1, 1, 1)\n",
      "    The position of the subplot described by one of\n",
      "\n",
      "    - Three integers (*nrows*, *ncols*, *index*). The subplot will take the\n",
      "      *index* position on a grid with *nrows* rows and *ncols* columns.\n",
      "      *index* starts at 1 in the upper left corner and increases to the\n",
      "      right. *index* can also be a two-tuple specifying the (*first*,\n",
      "      *last*) indices (1-based, and including *last*) of the subplot, e.g.,\n",
      "      ``fig.add_subplot(3, 1, (1, 2))`` makes a subplot that spans the\n",
      "      upper 2/3 of the figure.\n",
      "    - A 3-digit integer. The digits are interpreted as if given separately\n",
      "      as three single-digit integers, i.e. ``fig.add_subplot(235)`` is the\n",
      "      same as ``fig.add_subplot(2, 3, 5)``. Note that this can only be used\n",
      "      if there are no more than 9 subplots.\n",
      "    - A `.SubplotSpec`.\n",
      "\n",
      "projection : {None, 'aitoff', 'hammer', 'lambert', 'mollweide', 'polar', 'rectilinear', str}, optional\n",
      "    The projection type of the subplot (`~.axes.Axes`). *str* is the name\n",
      "    of a custom projection, see `~matplotlib.projections`. The default\n",
      "    None results in a 'rectilinear' projection.\n",
      "\n",
      "polar : bool, default: False\n",
      "    If True, equivalent to projection='polar'.\n",
      "\n",
      "sharex, sharey : `~.axes.Axes`, optional\n",
      "    Share the x or y `~matplotlib.axis` with sharex and/or sharey. The\n",
      "    axis will have the same limits, ticks, and scale as the axis of the\n",
      "    shared axes.\n",
      "\n",
      "label : str\n",
      "    A label for the returned axes.\n",
      "\n",
      "Returns\n",
      "-------\n",
      "`.axes.SubplotBase`, or another subclass of `~.axes.Axes`\n",
      "\n",
      "    The axes of the subplot. The returned axes base class depends on\n",
      "    the projection used. It is `~.axes.Axes` if rectilinear projection\n",
      "    is used and `.projections.polar.PolarAxes` if polar projection\n",
      "    is used. The returned axes is then a subplot subclass of the\n",
      "    base class.\n",
      "\n",
      "Other Parameters\n",
      "----------------\n",
      "**kwargs\n",
      "    This method also takes the keyword arguments for the returned axes\n",
      "    base class; except for the *figure* argument. The keyword arguments\n",
      "    for the rectilinear base class `~.axes.Axes` can be found in\n",
      "    the following table but there might also be other keyword\n",
      "    arguments if another projection is used.\n",
      "\n",
      "    Properties:\n",
      "    adjustable: {'box', 'datalim'}\n",
      "    agg_filter: a filter function, which takes a (m, n, 3) float array and a dpi value, and returns a (m, n, 3) array\n",
      "    alpha: float or None\n",
      "    anchor: 2-tuple of floats or {'C', 'SW', 'S', 'SE', ...}\n",
      "    animated: bool\n",
      "    aspect: {'auto'} or num\n",
      "    autoscale_on: bool\n",
      "    autoscalex_on: bool\n",
      "    autoscaley_on: bool\n",
      "    axes_locator: Callable[[Axes, Renderer], Bbox]\n",
      "    axisbelow: bool or 'line'\n",
      "    box_aspect: None, or a number\n",
      "    clip_box: `.Bbox`\n",
      "    clip_on: bool\n",
      "    clip_path: Patch or (Path, Transform) or None\n",
      "    contains: unknown\n",
      "    facecolor or fc: color\n",
      "    figure: `.Figure`\n",
      "    frame_on: bool\n",
      "    gid: str\n",
      "    in_layout: bool\n",
      "    label: object\n",
      "    navigate: bool\n",
      "    navigate_mode: unknown\n",
      "    path_effects: `.AbstractPathEffect`\n",
      "    picker: None or bool or callable\n",
      "    position: [left, bottom, width, height] or `~matplotlib.transforms.Bbox`\n",
      "    prop_cycle: unknown\n",
      "    rasterization_zorder: float or None\n",
      "    rasterized: bool or None\n",
      "    sketch_params: (scale: float, length: float, randomness: float)\n",
      "    snap: bool or None\n",
      "    title: str\n",
      "    transform: `.Transform`\n",
      "    url: str\n",
      "    visible: bool\n",
      "    xbound: unknown\n",
      "    xlabel: str\n",
      "    xlim: (bottom: float, top: float)\n",
      "    xmargin: float greater than -0.5\n",
      "    xscale: {\"linear\", \"log\", \"symlog\", \"logit\", ...}\n",
      "    xticklabels: unknown\n",
      "    xticks: unknown\n",
      "    ybound: unknown\n",
      "    ylabel: str\n",
      "    ylim: (bottom: float, top: float)\n",
      "    ymargin: float greater than -0.5\n",
      "    yscale: {\"linear\", \"log\", \"symlog\", \"logit\", ...}\n",
      "    yticklabels: unknown\n",
      "    yticks: unknown\n",
      "    zorder: float\n",
      "\n",
      "Notes\n",
      "-----\n",
      "Creating a subplot will delete any pre-existing subplot that overlaps\n",
      "with it beyond sharing a boundary::\n",
      "\n",
      "    import matplotlib.pyplot as plt\n",
      "    # plot a line, implicitly creating a subplot(111)\n",
      "    plt.plot([1, 2, 3])\n",
      "    # now create a subplot which represents the top plot of a grid\n",
      "    # with 2 rows and 1 column. Since this subplot will overlap the\n",
      "    # first, the plot (and its axes) previously created, will be removed\n",
      "    plt.subplot(211)\n",
      "\n",
      "If you do not want this behavior, use the `.Figure.add_subplot` method\n",
      "or the `.pyplot.axes` function instead.\n",
      "\n",
      "If the figure already has a subplot with key (*args*,\n",
      "*kwargs*) then it will simply make that subplot current and\n",
      "return it.  This behavior is deprecated. Meanwhile, if you do\n",
      "not want this behavior (i.e., you want to force the creation of a\n",
      "new subplot), you must use a unique set of args and kwargs.  The axes\n",
      "*label* attribute has been exposed for this purpose: if you want\n",
      "two subplots that are otherwise identical to be added to the figure,\n",
      "make sure you give them unique labels.\n",
      "\n",
      "In rare circumstances, `.add_subplot` may be called with a single\n",
      "argument, a subplot axes instance already created in the\n",
      "present figure but not in the figure's list of axes.\n",
      "\n",
      "See Also\n",
      "--------\n",
      ".Figure.add_subplot\n",
      ".pyplot.subplots\n",
      ".pyplot.axes\n",
      ".Figure.subplots\n",
      "\n",
      "Examples\n",
      "--------\n",
      "::\n",
      "\n",
      "    plt.subplot(221)\n",
      "\n",
      "    # equivalent but more general\n",
      "    ax1=plt.subplot(2, 2, 1)\n",
      "\n",
      "    # add a subplot with no frame\n",
      "    ax2=plt.subplot(222, frameon=False)\n",
      "\n",
      "    # add a polar subplot\n",
      "    plt.subplot(223, projection='polar')\n",
      "\n",
      "    # add a red subplot that shares the x-axis with ax1\n",
      "    plt.subplot(224, sharex=ax1, facecolor='red')\n",
      "\n",
      "    # delete ax2 from the figure\n",
      "    plt.delaxes(ax2)\n",
      "\n",
      "    # add ax2 to the figure again\n",
      "    plt.subplot(ax2)\n",
      "\u001b[0;31mFile:\u001b[0m      ~/Desktop/notonlypyton/data-visualization/.venv/lib/python3.8/site-packages/matplotlib/pyplot.py\n",
      "\u001b[0;31mType:\u001b[0m      function\n"
     ]
    }
   ],
   "source": [
    "%matplotlib inline\n",
    "\n",
    "import matplotlib.pyplot as plt\n",
    "import numpy as np\n",
    "\n",
    "plt.subplot?"
   ]
  },
  {
   "cell_type": "markdown",
   "metadata": {},
   "source": [
    "In matplotlib, a conceptual grid is overlayed on the figure. And a subplot command allows us to create axis to different portions of this grid.  \n",
    "For instance, if we wanted to create two plots side by side we would call subplot with parameters 1, 2 and 1 - to use 1 row with 2 columns and set the 1st axis to be the current axis."
   ]
  },
  {
   "cell_type": "code",
   "execution_count": 2,
   "metadata": {},
   "outputs": [
    {
     "data": {
      "text/plain": [
       "[<matplotlib.lines.Line2D at 0x7f407564ea00>]"
      ]
     },
     "execution_count": 2,
     "metadata": {},
     "output_type": "execute_result"
    },
    {
     "data": {
      "image/png": "[encoded data removed]",
      "text/plain": [
       "<Figure size 432x288 with 1 Axes>"
      ]
     },
     "metadata": {
      "needs_background": "light"
     },
     "output_type": "display_data"
    }
   ],
   "source": [
    "plt.figure()\n",
    "# subplot with 1 row, 2 columns, and current axis is 1st subplot axes\n",
    "plt.subplot(1, 2, 1)\n",
    "\n",
    "linear_data = np.array([1,2,3,4,5,6,7,8])\n",
    "\n",
    "plt.plot(linear_data, '-o')\n",
    "# this call to plot will create the left hand side plot."
   ]
  },
  {
   "cell_type": "code",
   "execution_count": 3,
   "metadata": {},
   "outputs": [
    {
     "data": {
      "text/plain": [
       "[<matplotlib.lines.Line2D at 0x7f4075560610>]"
      ]
     },
     "execution_count": 3,
     "metadata": {},
     "output_type": "execute_result"
    },
    {
     "data": {
      "image/png": "[encoded data removed]",
      "text/plain": [
       "<Figure size 432x288 with 2 Axes>"
      ]
     },
     "metadata": {
      "needs_background": "light"
     },
     "output_type": "display_data"
    }
   ],
   "source": [
    "plt.subplot(1, 2, 1)\n",
    "plt.plot(linear_data, '-o')\n",
    "\n",
    "exponential_data = linear_data**2 \n",
    "# subplot with 1 row, 2 columns, and current axis is 2nd subplot axes\n",
    "plt.subplot(1, 2, 2)\n",
    "plt.plot(exponential_data, '-o')"
   ]
  },
  {
   "cell_type": "markdown",
   "metadata": {},
   "source": [
    "Now we have two plots, each with their own axes objects.  \n",
    "  \n",
    "The norm with matplotlib is that you store the axes object that you get back from the subplot.  \n",
    "But you can call subplot again at any time with the parameters that interest you in order to get back a given axes.  \n",
    "Let's put exponential on the linear graph 2 "
   ]
  },
  {
   "cell_type": "code",
   "execution_count": 4,
   "metadata": {},
   "outputs": [
    {
     "name": "stderr",
     "output_type": "stream",
     "text": [
      "/tmp/ipykernel_26086/3864693702.py:7: MatplotlibDeprecationWarning: Adding an axes using the same arguments as a previous axes currently reuses the earlier instance.  In a future version, a new instance will always be created and returned.  Meanwhile, this warning can be suppressed, and the future behavior ensured, by passing a unique label to each axes instance.\n",
      "  plt.subplot(1, 2, 1)\n"
     ]
    },
    {
     "data": {
      "text/plain": [
       "[<matplotlib.lines.Line2D at 0x7f4075490580>]"
      ]
     },
     "execution_count": 4,
     "metadata": {},
     "output_type": "execute_result"
    },
    {
     "data": {
      "image/png": "[encoded data removed]",
      "text/plain": [
       "<Figure size 432x288 with 2 Axes>"
      ]
     },
     "metadata": {
      "needs_background": "light"
     },
     "output_type": "display_data"
    }
   ],
   "source": [
    "plt.subplot(1, 2, 1)\n",
    "plt.plot(linear_data, '-o')\n",
    "plt.subplot(1, 2, 2)\n",
    "plt.plot(exponential_data, '-o')\n",
    "\n",
    "# plot exponential data on 1st subplot axes\n",
    "plt.subplot(1, 2, 1)\n",
    "plt.plot(exponential_data, '-x')"
   ]
  },
  {
   "cell_type": "markdown",
   "metadata": {},
   "source": [
    "When you're creating a new subplot you are able to share the x, y, or both axes using the `sharex` and `sharey` parameters"
   ]
  },
  {
   "cell_type": "code",
   "execution_count": 5,
   "metadata": {},
   "outputs": [
    {
     "data": {
      "text/plain": [
       "[<matplotlib.lines.Line2D at 0x7f407542bb20>]"
      ]
     },
     "execution_count": 5,
     "metadata": {},
     "output_type": "execute_result"
    },
    {
     "data": {
      "image/png": "[encoded data removed]",
      "text/plain": [
       "<Figure size 432x288 with 2 Axes>"
      ]
     },
     "metadata": {
      "needs_background": "light"
     },
     "output_type": "display_data"
    }
   ],
   "source": [
    "plt.figure()\n",
    "ax1 = plt.subplot(1, 2, 1)\n",
    "plt.plot(linear_data, '-o')\n",
    "# pass sharey=ax1 to ensure the two subplots share the same y axis\n",
    "ax2 = plt.subplot(1, 2, 2, sharey=ax1)\n",
    "plt.plot(exponential_data, '-x') \n",
    "# under the hood plt.plot uses gca() to get the last axis object that we're using"
   ]
  },
  {
   "cell_type": "code",
   "execution_count": 6,
   "metadata": {},
   "outputs": [],
   "source": [
    "# plt.figure()\n",
    "# # the right hand side is equivalent shorthand syntax\n",
    "# plt.subplot(1,2,1) == plt.subplot(121)"
   ]
  },
  {
   "cell_type": "markdown",
   "metadata": {},
   "source": [
    "There's a nice function called subplots, which allows you to get many axis objects at once.  \n",
    "It's an effective way to build a grid where everything shares an axis (of course we could also just return the tuple of plots and iterate it over, if we wanted to)."
   ]
  },
  {
   "cell_type": "code",
   "execution_count": 7,
   "metadata": {},
   "outputs": [
    {
     "data": {
      "text/plain": [
       "[<matplotlib.lines.Line2D at 0x7f407523a070>]"
      ]
     },
     "execution_count": 7,
     "metadata": {},
     "output_type": "execute_result"
    },
    {
     "data": {
      "image/png": "[encoded data removed]",
      "text/plain": [
       "<Figure size 432x288 with 9 Axes>"
      ]
     },
     "metadata": {
      "needs_background": "light"
     },
     "output_type": "display_data"
    }
   ],
   "source": [
    "# create a 3x3 grid of subplots\n",
    "fig, ((ax1,ax2,ax3), (ax4,ax5,ax6), (ax7,ax8,ax9)) = plt.subplots(3, 3, sharex=True, sharey=True)\n",
    "# plot the linear_data on the 5th subplot axes \n",
    "ax5.plot(linear_data, '-')"
   ]
  },
  {
   "cell_type": "markdown",
   "metadata": {},
   "source": [
    "Note that this method turns off the y and x labels except for those plots which are on the left hand side or the bottom of the figure.  \n",
    "If you want to turn the labels back on, you need to and do it directly, iterating through the axis objects."
   ]
  },
  {
   "cell_type": "code",
   "execution_count": 8,
   "metadata": {},
   "outputs": [],
   "source": [
    "# fig, ((ax1,ax2,ax3), (ax4,ax5,ax6), (ax7,ax8,ax9)) = plt.subplots(3, 3, sharex=True, sharey=True)\n",
    "# ax5.plot(linear_data, '-')\n",
    "\n",
    "# # set inside tick labels to visible\n",
    "# for ax in plt.gcf().get_axes():\n",
    "#     for label in ax.get_xticklabels() + ax.get_yticklabels():\n",
    "#         label.set_visible(True)\n",
    "\n",
    "# # necessary on some systems to update the plot\n",
    "# plt.gcf().canvas.draw()"
   ]
  }
 ],
 "metadata": {
  "interpreter": {
   "hash": "bedb456c523726507b65425b0befe9b7a70e9d9d7e093775b1b2ea7fb6595020"
  },
  "kernelspec": {
   "display_name": "Python 3.8.10 ('.venv': venv)",
   "language": "python",
   "name": "python3"
  },
  "language_info": {
   "codemirror_mode": {
    "name": "ipython",
    "version": 3
   },
   "file_extension": ".py",
   "mimetype": "text/x-python",
   "name": "python",
   "nbconvert_exporter": "python",
   "pygments_lexer": "ipython3",
   "version": "3.8.10"
  },
  "orig_nbformat": 4
 },
 "nbformat": 4,
 "nbformat_minor": 2
}
